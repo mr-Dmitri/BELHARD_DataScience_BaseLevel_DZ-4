{
 "cells": [
  {
   "cell_type": "code",
   "id": "initial_id",
   "metadata": {
    "collapsed": true,
    "ExecuteTime": {
     "end_time": "2025-05-24T10:11:50.361330Z",
     "start_time": "2025-05-24T10:11:50.350975Z"
    }
   },
   "source": [
    "import os\n",
    "import seaborn as sns\n",
    "import matplotlib.pyplot as plt\n",
    "import openpyxl\n",
    "\n",
    "import pandas as pd\n",
    "import numpy as np\n",
    "\n",
    "from kaggle.api.kaggle_api_extended import KaggleApi\n",
    "from sqlalchemy.orm import declarative_base, sessionmaker\n",
    "from sqlalchemy import Column, Integer, String, Date, Float, create_engine, inspect, text"
   ],
   "outputs": [],
   "execution_count": 95
  },
  {
   "metadata": {
    "ExecuteTime": {
     "end_time": "2025-05-24T10:11:50.376320Z",
     "start_time": "2025-05-24T10:11:50.373293Z"
    }
   },
   "cell_type": "code",
   "source": [
    "root_dir = os.getcwd()\n",
    "\n",
    "kaggle_data_set = 'henrysue/online-shoppers-intention'\n",
    "\n",
    "dataset_dir = 'dataset'\n",
    "dataset_name = 'online_shoppers_intention.csv'\n",
    "dataset_path = os.path.join(root_dir, dataset_dir, dataset_name)\n",
    "\n",
    "separator = f\"\\n{'-'*100}\\n\""
   ],
   "id": "c65d789091afb103",
   "outputs": [],
   "execution_count": 96
  },
  {
   "metadata": {
    "ExecuteTime": {
     "end_time": "2025-05-24T10:11:50.386476Z",
     "start_time": "2025-05-24T10:11:50.383934Z"
    }
   },
   "cell_type": "code",
   "source": [
    "def load_data_csv(file_path):\n",
    "    \"\"\"\n",
    "    Загрузка данных из CSV файла.\n",
    "    :param file_path: Путь к CSV файлу.\n",
    "    :return: DataFrame с загруженными данными.\n",
    "    \"\"\"\n",
    "    try:\n",
    "        return pd.read_csv(file_path)\n",
    "    except Exception as e:\n",
    "        raise Exception(e)"
   ],
   "id": "6a22848aee4f0eb2",
   "outputs": [],
   "execution_count": 97
  },
  {
   "metadata": {
    "ExecuteTime": {
     "end_time": "2025-05-24T10:11:50.397390Z",
     "start_time": "2025-05-24T10:11:50.394072Z"
    }
   },
   "cell_type": "code",
   "source": [
    "def load_kaggle_data_set(dataset):\n",
    "    \"\"\"\n",
    "    Загрузка датасета из kaggle.\n",
    "\n",
    "    Важно: Необходимо предварительно получить API Token.\n",
    "    Переместите файл kaggle.json в папку ~/.kaggle/ (для Linux и macOS)\n",
    "    или в C:/Users/<Ваше_имя_пользователя>/.kaggle/ (для Windows).\n",
    "    Если папка .kaggle не существует, создайте ее.\n",
    "    :param dataset:\n",
    "    :return:\n",
    "    \"\"\"\n",
    "\n",
    "    api = KaggleApi()\n",
    "    api.authenticate()\n",
    "    api.dataset_download_files(dataset=dataset,\n",
    "                               path=f'./{dataset_dir}',\n",
    "                               force=True,\n",
    "                               unzip=True)              # Загрузка и распаковка"
   ],
   "id": "bcfda1e03dc515f8",
   "outputs": [],
   "execution_count": 98
  },
  {
   "metadata": {
    "ExecuteTime": {
     "end_time": "2025-05-24T10:11:50.419281Z",
     "start_time": "2025-05-24T10:11:50.404890Z"
    }
   },
   "cell_type": "code",
   "source": [
    "try:\n",
    "    if not os.path.exists(dataset_path):\n",
    "        # Загрузка файла датасета из kaggle если он не загружен\n",
    "        load_kaggle_data_set(kaggle_data_set)\n",
    "        # Загрузка файла в датафрейм\n",
    "    df = load_data_csv(dataset_path)\n",
    "except Exception as e:\n",
    "    raise Exception (f'При выполнении произошла ошибка: {e}')"
   ],
   "id": "2866b63505f2bcf8",
   "outputs": [],
   "execution_count": 99
  },
  {
   "metadata": {
    "ExecuteTime": {
     "end_time": "2025-05-24T10:12:07.153893Z",
     "start_time": "2025-05-24T10:12:07.135249Z"
    }
   },
   "cell_type": "code",
   "source": [
    "# Экспорт датасета в Exel если не был создан ранее\n",
    "dataset_exel = os.path.join(root_dir, 'dataset.xlsx')\n",
    "print(dataset_exel)\n",
    "if not os.path.isfile(dataset_exel):\n",
    "    df.to_excel(dataset_exel, index=False)"
   ],
   "id": "976be25a51b62dfb",
   "outputs": [
    {
     "name": "stdout",
     "output_type": "stream",
     "text": [
      "D:\\Projects\\My-education\\BELHARD\\DataScience\\BaseLevel\\HomeWork\\DZ-4\\dataset.xlsx\n"
     ]
    }
   ],
   "execution_count": 102
  },
  {
   "metadata": {
    "ExecuteTime": {
     "end_time": "2025-05-24T10:11:50.645207400Z",
     "start_time": "2025-05-24T10:11:02.289241Z"
    }
   },
   "cell_type": "code",
   "source": [
    "# Информация о датафрейме (датасете)\n",
    "df.info()"
   ],
   "id": "223865f4330433b",
   "outputs": [
    {
     "name": "stdout",
     "output_type": "stream",
     "text": [
      "<class 'pandas.core.frame.DataFrame'>\n",
      "RangeIndex: 12330 entries, 0 to 12329\n",
      "Data columns (total 18 columns):\n",
      " #   Column                   Non-Null Count  Dtype  \n",
      "---  ------                   --------------  -----  \n",
      " 0   Administrative           12330 non-null  int64  \n",
      " 1   Administrative_Duration  12330 non-null  float64\n",
      " 2   Informational            12330 non-null  int64  \n",
      " 3   Informational_Duration   12330 non-null  float64\n",
      " 4   ProductRelated           12330 non-null  int64  \n",
      " 5   ProductRelated_Duration  12330 non-null  float64\n",
      " 6   BounceRates              12330 non-null  float64\n",
      " 7   ExitRates                12330 non-null  float64\n",
      " 8   PageValues               12330 non-null  float64\n",
      " 9   SpecialDay               12330 non-null  float64\n",
      " 10  Month                    12330 non-null  object \n",
      " 11  OperatingSystems         12330 non-null  int64  \n",
      " 12  Browser                  12330 non-null  int64  \n",
      " 13  Region                   12330 non-null  int64  \n",
      " 14  TrafficType              12330 non-null  int64  \n",
      " 15  VisitorType              12330 non-null  object \n",
      " 16  Weekend                  12330 non-null  bool   \n",
      " 17  Revenue                  12330 non-null  bool   \n",
      "dtypes: bool(2), float64(7), int64(7), object(2)\n",
      "memory usage: 1.5+ MB\n"
     ]
    }
   ],
   "execution_count": 90
  },
  {
   "metadata": {},
   "cell_type": "code",
   "outputs": [],
   "execution_count": null,
   "source": "df.",
   "id": "60b52da518124a2a"
  },
  {
   "metadata": {
    "ExecuteTime": {
     "end_time": "2025-05-24T10:11:50.645207400Z",
     "start_time": "2025-05-24T10:11:02.306077Z"
    }
   },
   "cell_type": "code",
   "source": [
    "# Вывод информации о дубликатах\n",
    "print(separator, 'Количество дублирующихся значений: ', df.duplicated().sum())"
   ],
   "id": "44231dea15f0118f",
   "outputs": [
    {
     "name": "stdout",
     "output_type": "stream",
     "text": [
      "\n",
      "----------------------------------------------------------------------------------------------------\n",
      " Количество дублирующихся значений:  125\n"
     ]
    }
   ],
   "execution_count": 91
  },
  {
   "metadata": {
    "ExecuteTime": {
     "end_time": "2025-05-24T10:11:50.645207400Z",
     "start_time": "2025-05-24T10:11:02.325158Z"
    }
   },
   "cell_type": "code",
   "source": [
    "# Убрать дубликаты записей\n",
    "df.drop_duplicates(inplace=True)"
   ],
   "id": "b47930621c0fd042",
   "outputs": [],
   "execution_count": 92
  },
  {
   "metadata": {
    "ExecuteTime": {
     "end_time": "2025-05-24T10:11:50.645207400Z",
     "start_time": "2025-05-24T10:11:02.341631Z"
    }
   },
   "cell_type": "code",
   "source": [
    "# Информация о датафрейме (датасете)\n",
    "df.info()"
   ],
   "id": "323e810c8830ccc5",
   "outputs": [
    {
     "name": "stdout",
     "output_type": "stream",
     "text": [
      "<class 'pandas.core.frame.DataFrame'>\n",
      "Index: 12205 entries, 0 to 12329\n",
      "Data columns (total 18 columns):\n",
      " #   Column                   Non-Null Count  Dtype  \n",
      "---  ------                   --------------  -----  \n",
      " 0   Administrative           12205 non-null  int64  \n",
      " 1   Administrative_Duration  12205 non-null  float64\n",
      " 2   Informational            12205 non-null  int64  \n",
      " 3   Informational_Duration   12205 non-null  float64\n",
      " 4   ProductRelated           12205 non-null  int64  \n",
      " 5   ProductRelated_Duration  12205 non-null  float64\n",
      " 6   BounceRates              12205 non-null  float64\n",
      " 7   ExitRates                12205 non-null  float64\n",
      " 8   PageValues               12205 non-null  float64\n",
      " 9   SpecialDay               12205 non-null  float64\n",
      " 10  Month                    12205 non-null  object \n",
      " 11  OperatingSystems         12205 non-null  int64  \n",
      " 12  Browser                  12205 non-null  int64  \n",
      " 13  Region                   12205 non-null  int64  \n",
      " 14  TrafficType              12205 non-null  int64  \n",
      " 15  VisitorType              12205 non-null  object \n",
      " 16  Weekend                  12205 non-null  bool   \n",
      " 17  Revenue                  12205 non-null  bool   \n",
      "dtypes: bool(2), float64(7), int64(7), object(2)\n",
      "memory usage: 1.6+ MB\n"
     ]
    }
   ],
   "execution_count": 93
  },
  {
   "metadata": {
    "ExecuteTime": {
     "end_time": "2025-05-24T10:11:50.645207400Z",
     "start_time": "2025-05-24T10:11:02.356240Z"
    }
   },
   "cell_type": "code",
   "source": [
    "# Отсутствующие значения в столбцах датафрейма. Можно посмотреть и в информации, но так более наглядно.\n",
    "print(separator, 'Отсутствующие значения:\\n', df.isna().sum())"
   ],
   "id": "8bcfd9772a75a77",
   "outputs": [
    {
     "name": "stdout",
     "output_type": "stream",
     "text": [
      "\n",
      "----------------------------------------------------------------------------------------------------\n",
      " Отсутствующие значения:\n",
      " Administrative             0\n",
      "Administrative_Duration    0\n",
      "Informational              0\n",
      "Informational_Duration     0\n",
      "ProductRelated             0\n",
      "ProductRelated_Duration    0\n",
      "BounceRates                0\n",
      "ExitRates                  0\n",
      "PageValues                 0\n",
      "SpecialDay                 0\n",
      "Month                      0\n",
      "OperatingSystems           0\n",
      "Browser                    0\n",
      "Region                     0\n",
      "TrafficType                0\n",
      "VisitorType                0\n",
      "Weekend                    0\n",
      "Revenue                    0\n",
      "dtype: int64\n"
     ]
    }
   ],
   "execution_count": 94
  }
 ],
 "metadata": {
  "kernelspec": {
   "display_name": "Python 3",
   "language": "python",
   "name": "python3"
  },
  "language_info": {
   "codemirror_mode": {
    "name": "ipython",
    "version": 2
   },
   "file_extension": ".py",
   "mimetype": "text/x-python",
   "name": "python",
   "nbconvert_exporter": "python",
   "pygments_lexer": "ipython2",
   "version": "2.7.6"
  }
 },
 "nbformat": 4,
 "nbformat_minor": 5
}
